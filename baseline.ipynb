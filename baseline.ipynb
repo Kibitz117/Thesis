{
 "cells": [
  {
   "cell_type": "markdown",
   "metadata": {},
   "source": [
    "Research Notes:\n",
    "Finish Sharpe Ratio Loss\n",
    "Look into other ways to make model selective\n",
    "Configs to train\n",
    "Cross-sectional-median Base Transformer\n",
    "Raw return base transformer\n",
    "raw return sharpe ratio loss transformer\n",
    "raw return selective transformer\n",
    "cross-sectional-median selective transformer\n",
    "\n",
    "\n",
    "Look into making two stage model:\n",
    "1. Selective model (selects stocks that confident in predicting above or below cross-sectional)\n",
    "2. Transformer model\n"
   ]
  },
  {
   "cell_type": "code",
   "execution_count": null,
   "metadata": {},
   "outputs": [],
   "source": []
  }
 ],
 "metadata": {
  "language_info": {
   "name": "python"
  }
 },
 "nbformat": 4,
 "nbformat_minor": 2
}
