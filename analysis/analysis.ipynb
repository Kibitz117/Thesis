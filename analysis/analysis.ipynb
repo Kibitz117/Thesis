{
 "cells": [
  {
   "cell_type": "code",
   "execution_count": 9,
   "metadata": {},
   "outputs": [],
   "source": [
    "import sys\n",
    "from datetime import datetime\n",
    "from analysis_helper_functions import calculate_portfolio_returns,calculate_sharpe_ratio\n",
    "import pandas as pd"
   ]
  },
  {
   "cell_type": "code",
   "execution_count": 10,
   "metadata": {},
   "outputs": [],
   "source": [
    "#import data\n",
    "model='xgb'\n",
    "in_sample_long_portfolios=pd.read_csv(f'../data/{model}_results/in_sample_long_portfolios.csv')\n",
    "in_sample_short_portfolios=pd.read_csv(f'../data/{model}_results/in_sample_short_portfolios.csv')\n",
    "out_of_sample_long_portfolios=pd.read_csv(f'../data/{model}_results/out_of_sample_long_portfolios.csv')\n",
    "out_of_sample_short_portfolios=pd.read_csv(f'../data/{model}_results/out_of_sample_short_portfolios.csv')\n",
    "returns_df=pd.read_csv('../data/returns_df.csv')"
   ]
  },
  {
   "cell_type": "code",
   "execution_count": 11,
   "metadata": {},
   "outputs": [],
   "source": [
    "#drop unamed 0 from all dataframes\n",
    "in_sample_long_portfolios=in_sample_long_portfolios.drop(columns='Unnamed: 0')\n",
    "in_sample_short_portfolios=in_sample_short_portfolios.drop(columns='Unnamed: 0')\n",
    "out_of_sample_long_portfolios=out_of_sample_long_portfolios.drop(columns='Unnamed: 0')\n",
    "out_of_sample_short_portfolios=out_of_sample_short_portfolios.drop(columns='Unnamed: 0')\n",
    "returns_df=returns_df.drop(columns='Unnamed: 0')"
   ]
  },
  {
   "cell_type": "code",
   "execution_count": 12,
   "metadata": {},
   "outputs": [
    {
     "name": "stdout",
     "output_type": "stream",
     "text": [
      "Average Daily In-Sample Return: 0.059669191953465824\n",
      "Average Daily Out-Of-Sample Return: 0.028579801978509296\n",
      "Average Daily In-Sample Standard Deviation: 0.35968681577570305\n",
      "Average Daily Out-Of-Sample Standard Deviation: 0.1305968997728727\n",
      "In-Sample Annualized Sharpe Ratio: 2.629952319574244\n",
      "Out-Of-Sample Annualized Sharpe Ratio: 3.4643273350117045\n"
     ]
    }
   ],
   "source": [
    "# Calculate in-sample and out-of-sample returns for long and short portfolios\n",
    "in_sample_long_returns = calculate_portfolio_returns(in_sample_long_portfolios, returns_df)\n",
    "out_of_sample_long_returns = calculate_portfolio_returns(out_of_sample_long_portfolios, returns_df)\n",
    "\n",
    "\n",
    "# Calculate total returns (long + short) REMOVED SHORT\n",
    "in_sample_total_returns = in_sample_long_returns \n",
    "out_of_sample_total_returns = out_of_sample_long_returns \n",
    "\n",
    "# Calculate Sharpe ratios\n",
    "in_sample_sharpe = calculate_sharpe_ratio(in_sample_total_returns)\n",
    "out_of_sample_sharpe = calculate_sharpe_ratio(out_of_sample_total_returns)\n",
    "\n",
    "print(f\"Average Daily In-Sample Return: {in_sample_total_returns.mean()}\")\n",
    "print(f\"Average Daily Out-Of-Sample Return: {out_of_sample_total_returns.mean()}\")\n",
    "print(f\"Average Daily In-Sample Standard Deviation: {in_sample_total_returns.std()}\")\n",
    "print(f\"Average Daily Out-Of-Sample Standard Deviation: {out_of_sample_total_returns.std()}\")\n",
    "print(f\"In-Sample Annualized Sharpe Ratio: {in_sample_sharpe}\")\n",
    "print(f\"Out-Of-Sample Annualized Sharpe Ratio: {out_of_sample_sharpe}\")"
   ]
  },
  {
   "cell_type": "code",
   "execution_count": 8,
   "metadata": {},
   "outputs": [
    {
     "name": "stdout",
     "output_type": "stream",
     "text": [
      "Average Daily In-Sample Return: 0.059290255453223466\n",
      "Average Daily Out-Of-Sample Return: 0.028744995565410197\n",
      "Average Daily In-Sample Standard Deviation: 0.3726294334928893\n",
      "Average Daily Out-Of-Sample Standard Deviation: 0.1330114891664373\n",
      "In-Sample Annualized Sharpe Ratio: 2.522462426558587\n",
      "Out-Of-Sample Annualized Sharpe Ratio: 3.4211539130749395\n"
     ]
    }
   ],
   "source": [
    "# Calculate in-sample and out-of-sample returns for long and short portfolios\n",
    "in_sample_long_returns = calculate_portfolio_returns(in_sample_long_portfolios, returns_df)\n",
    "out_of_sample_long_returns = calculate_portfolio_returns(out_of_sample_long_portfolios, returns_df)\n",
    "\n",
    "\n",
    "# Calculate total returns (long + short) REMOVED SHORT\n",
    "in_sample_total_returns = in_sample_long_returns \n",
    "out_of_sample_total_returns = out_of_sample_long_returns \n",
    "\n",
    "# Calculate Sharpe ratios\n",
    "in_sample_sharpe = calculate_sharpe_ratio(in_sample_total_returns)\n",
    "out_of_sample_sharpe = calculate_sharpe_ratio(out_of_sample_total_returns)\n",
    "\n",
    "print(f\"Average Daily In-Sample Return: {in_sample_total_returns.mean()}\")\n",
    "print(f\"Average Daily Out-Of-Sample Return: {out_of_sample_total_returns.mean()}\")\n",
    "print(f\"Average Daily In-Sample Standard Deviation: {in_sample_total_returns.std()}\")\n",
    "print(f\"Average Daily Out-Of-Sample Standard Deviation: {out_of_sample_total_returns.std()}\")\n",
    "print(f\"In-Sample Annualized Sharpe Ratio: {in_sample_sharpe}\")\n",
    "print(f\"Out-Of-Sample Annualized Sharpe Ratio: {out_of_sample_sharpe}\")"
   ]
  },
  {
   "cell_type": "code",
   "execution_count": 5,
   "metadata": {},
   "outputs": [
    {
     "data": {
      "text/plain": [
       "date\n",
       "1990-02-01    0.234395\n",
       "1990-02-02    0.147825\n",
       "1990-02-05    0.123014\n",
       "1990-02-06    0.053130\n",
       "1990-02-07    0.092326\n",
       "                ...   \n",
       "2014-08-18    0.007462\n",
       "2014-08-19    0.068464\n",
       "2014-08-20   -0.020049\n",
       "2014-08-21    0.004260\n",
       "2014-08-22    0.038313\n",
       "Name: RET, Length: 6189, dtype: float64"
      ]
     },
     "execution_count": 5,
     "metadata": {},
     "output_type": "execute_result"
    }
   ],
   "source": [
    "in_sample_total_returns"
   ]
  },
  {
   "cell_type": "code",
   "execution_count": null,
   "metadata": {},
   "outputs": [],
   "source": []
  }
 ],
 "metadata": {
  "kernelspec": {
   "display_name": "Python 3",
   "language": "python",
   "name": "python3"
  },
  "language_info": {
   "codemirror_mode": {
    "name": "ipython",
    "version": 3
   },
   "file_extension": ".py",
   "mimetype": "text/x-python",
   "name": "python",
   "nbconvert_exporter": "python",
   "pygments_lexer": "ipython3",
   "version": "3.9.16"
  }
 },
 "nbformat": 4,
 "nbformat_minor": 2
}
