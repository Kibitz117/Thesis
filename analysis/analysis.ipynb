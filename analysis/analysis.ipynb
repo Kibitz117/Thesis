{
 "cells": [
  {
   "cell_type": "code",
   "execution_count": 1,
   "metadata": {},
   "outputs": [],
   "source": [
    "import sys\n",
    "from datetime import datetime\n",
    "from analysis_helper_functions import calculate_portfolio_returns,calculate_sharpe_ratio\n",
    "import pandas as pd"
   ]
  },
  {
   "cell_type": "code",
   "execution_count": 2,
   "metadata": {},
   "outputs": [],
   "source": [
    "#import data\n",
    "model='rf'\n",
    "in_sample_long_portfolios=pd.read_csv(f'../data/{model}_results/in_sample_long_portfolios.csv')\n",
    "in_sample_short_portfolios=pd.read_csv(f'../data/{model}_results/in_sample_short_portfolios.csv')\n",
    "out_of_sample_long_portfolios=pd.read_csv(f'../data/{model}_results/out_of_sample_long_portfolios.csv')\n",
    "out_of_sample_short_portfolios=pd.read_csv(f'../data/{model}_results/out_of_sample_short_portfolios.csv')\n",
    "returns_df=pd.read_csv('../data/returns_df.csv')"
   ]
  },
  {
   "cell_type": "code",
   "execution_count": 3,
   "metadata": {},
   "outputs": [],
   "source": [
    "#drop unamed 0 from all dataframes\n",
    "in_sample_long_portfolios=in_sample_long_portfolios.drop(columns='Unnamed: 0')\n",
    "in_sample_short_portfolios=in_sample_short_portfolios.drop(columns='Unnamed: 0')\n",
    "out_of_sample_long_portfolios=out_of_sample_long_portfolios.drop(columns='Unnamed: 0')\n",
    "out_of_sample_short_portfolios=out_of_sample_short_portfolios.drop(columns='Unnamed: 0')\n",
    "returns_df=returns_df.drop(columns='Unnamed: 0')"
   ]
  },
  {
   "cell_type": "code",
   "execution_count": 4,
   "metadata": {},
   "outputs": [
    {
     "data": {
      "text/html": [
       "<div>\n",
       "<style scoped>\n",
       "    .dataframe tbody tr th:only-of-type {\n",
       "        vertical-align: middle;\n",
       "    }\n",
       "\n",
       "    .dataframe tbody tr th {\n",
       "        vertical-align: top;\n",
       "    }\n",
       "\n",
       "    .dataframe thead th {\n",
       "        text-align: right;\n",
       "    }\n",
       "</style>\n",
       "<table border=\"1\" class=\"dataframe\">\n",
       "  <thead>\n",
       "    <tr style=\"text-align: right;\">\n",
       "      <th></th>\n",
       "      <th>date</th>\n",
       "      <th>TICKER</th>\n",
       "      <th>predicted_prob</th>\n",
       "    </tr>\n",
       "  </thead>\n",
       "  <tbody>\n",
       "    <tr>\n",
       "      <th>0</th>\n",
       "      <td>1990-02-01</td>\n",
       "      <td>SUNW</td>\n",
       "      <td>0.999999</td>\n",
       "    </tr>\n",
       "    <tr>\n",
       "      <th>1</th>\n",
       "      <td>1990-02-01</td>\n",
       "      <td>COMM</td>\n",
       "      <td>0.999999</td>\n",
       "    </tr>\n",
       "    <tr>\n",
       "      <th>2</th>\n",
       "      <td>1990-02-01</td>\n",
       "      <td>UAECA</td>\n",
       "      <td>0.999999</td>\n",
       "    </tr>\n",
       "    <tr>\n",
       "      <th>3</th>\n",
       "      <td>1990-02-01</td>\n",
       "      <td>CKE</td>\n",
       "      <td>0.999999</td>\n",
       "    </tr>\n",
       "    <tr>\n",
       "      <th>4</th>\n",
       "      <td>1990-02-01</td>\n",
       "      <td>LYO</td>\n",
       "      <td>0.999999</td>\n",
       "    </tr>\n",
       "    <tr>\n",
       "      <th>...</th>\n",
       "      <td>...</td>\n",
       "      <td>...</td>\n",
       "      <td>...</td>\n",
       "    </tr>\n",
       "    <tr>\n",
       "      <th>175695</th>\n",
       "      <td>2014-08-22</td>\n",
       "      <td>MJN</td>\n",
       "      <td>0.999999</td>\n",
       "    </tr>\n",
       "    <tr>\n",
       "      <th>175696</th>\n",
       "      <td>2014-08-22</td>\n",
       "      <td>PCLN</td>\n",
       "      <td>0.999999</td>\n",
       "    </tr>\n",
       "    <tr>\n",
       "      <th>175697</th>\n",
       "      <td>2014-08-22</td>\n",
       "      <td>SBAC</td>\n",
       "      <td>0.999999</td>\n",
       "    </tr>\n",
       "    <tr>\n",
       "      <th>175698</th>\n",
       "      <td>2014-08-22</td>\n",
       "      <td>TWTR</td>\n",
       "      <td>0.999999</td>\n",
       "    </tr>\n",
       "    <tr>\n",
       "      <th>175699</th>\n",
       "      <td>2014-08-22</td>\n",
       "      <td>AAPL</td>\n",
       "      <td>0.999999</td>\n",
       "    </tr>\n",
       "  </tbody>\n",
       "</table>\n",
       "<p>175700 rows × 3 columns</p>\n",
       "</div>"
      ],
      "text/plain": [
       "              date TICKER  predicted_prob\n",
       "0       1990-02-01   SUNW        0.999999\n",
       "1       1990-02-01   COMM        0.999999\n",
       "2       1990-02-01  UAECA        0.999999\n",
       "3       1990-02-01    CKE        0.999999\n",
       "4       1990-02-01    LYO        0.999999\n",
       "...            ...    ...             ...\n",
       "175695  2014-08-22    MJN        0.999999\n",
       "175696  2014-08-22   PCLN        0.999999\n",
       "175697  2014-08-22   SBAC        0.999999\n",
       "175698  2014-08-22   TWTR        0.999999\n",
       "175699  2014-08-22   AAPL        0.999999\n",
       "\n",
       "[175700 rows x 3 columns]"
      ]
     },
     "execution_count": 4,
     "metadata": {},
     "output_type": "execute_result"
    }
   ],
   "source": [
    "in_sample_long_portfolios"
   ]
  },
  {
   "cell_type": "code",
   "execution_count": 5,
   "metadata": {},
   "outputs": [
    {
     "name": "stdout",
     "output_type": "stream",
     "text": [
      "Average Daily In-Sample Return: 0.08642508822103732\n",
      "Average Daily Out-Of-Sample Return: 0.04500089391096708\n",
      "Average Daily In-Sample Standard Deviation: 0.24354278694221956\n",
      "Average Daily Out-Of-Sample Standard Deviation: 0.12185671385370392\n",
      "In-Sample Annualized Sharpe Ratio: 5.628152155319606\n",
      "Out-Of-Sample Annualized Sharpe Ratio: 5.852013731993031\n"
     ]
    }
   ],
   "source": [
    "# Calculate in-sample and out-of-sample returns for long and short portfolios\n",
    "in_sample_long_returns = calculate_portfolio_returns(in_sample_long_portfolios, returns_df,'long')\n",
    "out_of_sample_long_returns = calculate_portfolio_returns(out_of_sample_long_portfolios, returns_df,'long')\n",
    "\n",
    "in_sample_short_returns = calculate_portfolio_returns(in_sample_short_portfolios, returns_df,'short')\n",
    "out_of_sample_short_returns = calculate_portfolio_returns(out_of_sample_short_portfolios, returns_df,'short')\n",
    "# Calculate total returns (long + short) REMOVED SHORT\n",
    "in_sample_total_returns = in_sample_long_returns + in_sample_short_returns\n",
    "out_of_sample_total_returns = out_of_sample_long_returns  + out_of_sample_short_returns\n",
    "\n",
    "# Calculate Sharpe ratios\n",
    "in_sample_sharpe = calculate_sharpe_ratio(in_sample_total_returns)\n",
    "out_of_sample_sharpe = calculate_sharpe_ratio(out_of_sample_total_returns)\n",
    "\n",
    "print(f\"Average Daily In-Sample Return: {in_sample_total_returns.mean()}\")\n",
    "print(f\"Average Daily Out-Of-Sample Return: {out_of_sample_total_returns.mean()}\")\n",
    "print(f\"Average Daily In-Sample Standard Deviation: {in_sample_total_returns.std()}\")\n",
    "print(f\"Average Daily Out-Of-Sample Standard Deviation: {out_of_sample_total_returns.std()}\")\n",
    "print(f\"In-Sample Annualized Sharpe Ratio: {in_sample_sharpe}\")\n",
    "print(f\"Out-Of-Sample Annualized Sharpe Ratio: {out_of_sample_sharpe}\")"
   ]
  },
  {
   "cell_type": "code",
   "execution_count": 5,
   "metadata": {},
   "outputs": [
    {
     "data": {
      "text/plain": [
       "date\n",
       "1990-02-01    0.234395\n",
       "1990-02-02    0.147825\n",
       "1990-02-05    0.123014\n",
       "1990-02-06    0.053130\n",
       "1990-02-07    0.092326\n",
       "                ...   \n",
       "2014-08-18    0.007462\n",
       "2014-08-19    0.068464\n",
       "2014-08-20   -0.020049\n",
       "2014-08-21    0.004260\n",
       "2014-08-22    0.038313\n",
       "Name: RET, Length: 6189, dtype: float64"
      ]
     },
     "execution_count": 5,
     "metadata": {},
     "output_type": "execute_result"
    }
   ],
   "source": [
    "in_sample_total_returns"
   ]
  },
  {
   "cell_type": "code",
   "execution_count": null,
   "metadata": {},
   "outputs": [],
   "source": []
  }
 ],
 "metadata": {
  "kernelspec": {
   "display_name": "Python 3",
   "language": "python",
   "name": "python3"
  },
  "language_info": {
   "codemirror_mode": {
    "name": "ipython",
    "version": 3
   },
   "file_extension": ".py",
   "mimetype": "text/x-python",
   "name": "python",
   "nbconvert_exporter": "python",
   "pygments_lexer": "ipython3",
   "version": "3.9.16"
  }
 },
 "nbformat": 4,
 "nbformat_minor": 2
}
