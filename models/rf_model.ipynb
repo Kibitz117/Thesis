{
 "cells": [
  {
   "cell_type": "code",
   "execution_count": 1,
   "metadata": {},
   "outputs": [],
   "source": [
    "import pandas as pd\n",
    "import numpy as np\n",
    "import matplotlib.pyplot as plt\n",
    "from tqdm import tqdm\n",
    "import yfinance as yf\n",
    "import sys\n",
    "from datetime import datetime\n",
    "sys.path.append('../data_func')\n",
    "\n",
    "from data_helper_functions import create_study_periods"
   ]
  },
  {
   "cell_type": "code",
   "execution_count": 2,
   "metadata": {},
   "outputs": [],
   "source": [
    "df=pd.read_csv('../data/crsp_ff_adjusted.csv)\n",
    "df.drop(columns=['Unnamed: 0'],inplace=True)\n",
    "df['date'] = pd.to_datetime(df['date'])\n",
    "df.dropna(subset=['RET'],inplace=True)"
   ]
  },
  {
   "cell_type": "code",
   "execution_count": null,
   "metadata": {},
   "outputs": [],
   "source": [
    "#select returns to use\n",
    "#select returns to use\n",
    "returns='RET'\n",
    "df=df[['date','TICKER',f'{returns}']]\n",
    "if returns!='RET':\n",
    "    #rename returns column\n",
    "    df.rename(columns={f'{returns}':'RET'},inplace=True)"
   ]
  },
  {
   "cell_type": "code",
   "execution_count": 3,
   "metadata": {},
   "outputs": [
    {
     "name": "stderr",
     "output_type": "stream",
     "text": [
      "  0%|          | 0/38 [00:00<?, ?it/s]"
     ]
    },
    {
     "name": "stderr",
     "output_type": "stream",
     "text": [
      " 89%|████████▉ | 34/38 [00:05<00:00,  5.82it/s]"
     ]
    },
    {
     "name": "stdout",
     "output_type": "stream",
     "text": [
      "Reached the end of the dataset.\n"
     ]
    },
    {
     "name": "stderr",
     "output_type": "stream",
     "text": [
      "\n"
     ]
    }
   ],
   "source": [
    "#Optional parameter target_type: 'cross_sectional_median(default)','buckets(10 buckets)','raw_returns'.\n",
    "study_periods=create_study_periods(df,n_periods=23,window_size=240,trade_size=250,train_size=750,forward_roll=250,start_date=datetime(1990,1,1),end_date=datetime(2015,12,31))"
   ]
  },
  {
   "cell_type": "markdown",
   "metadata": {},
   "source": [
    "## Cross Sectional Median Model"
   ]
  },
  {
   "cell_type": "code",
   "execution_count": 4,
   "metadata": {},
   "outputs": [],
   "source": [
    "from sklearn.ensemble import RandomForestClassifier\n",
    "from sklearn.utils.class_weight import compute_class_weight\n",
    "import pandas as pd\n",
    "from tqdm import tqdm\n",
    "import numpy as np\n",
    "\n",
    "# Calculate class weights\n",
    "\n",
    "clf = RandomForestClassifier(n_estimators=1000, max_depth=20, random_state=42)"
   ]
  },
  {
   "cell_type": "code",
   "execution_count": 11,
   "metadata": {},
   "outputs": [
    {
     "name": "stderr",
     "output_type": "stream",
     "text": [
      "100%|██████████| 34/34 [1:13:25<00:00, 129.57s/it]\n"
     ]
    }
   ],
   "source": [
    "# Creating separate DataFrames for in-sample and out-of-sample portfolios\n",
    "in_sample_long_portfolios = pd.DataFrame()\n",
    "out_of_sample_long_portfolios = pd.DataFrame()\n",
    "\n",
    "in_sample_short_portfolios = pd.DataFrame()\n",
    "out_of_sample_short_portfolios = pd.DataFrame()\n",
    "\n",
    "# Assuming study_periods contains the train-test split dataframes\n",
    "for train_df, test_df in tqdm(study_periods):\n",
    "    X_train = train_df[['standardized_return']]\n",
    "    y_train = train_df['target'].replace({0: 0, 1: 1}).astype(int)\n",
    "\n",
    "    X_test = test_df[['standardized_return']]\n",
    "    y_test = test_df['target'].replace({0: 0, 1: 1}).astype(int)\n",
    "    class_weights = compute_class_weight(class_weight='balanced', classes=np.unique(y_train), y=y_train)\n",
    "    class_weights_dict = {0: class_weights[0], 1: class_weights[1] * 5}  # Increase the weight for class 1 as needed\n",
    "\n",
    "    clf = RandomForestClassifier(n_estimators=1000, max_depth=20, random_state=42, class_weight=class_weights_dict)\n",
    "\n",
    "    # Train the classifier\n",
    "    clf.fit(X_train, y_train)\n",
    "\n",
    "    # Predict on both train and test data\n",
    "    train_probs = clf.predict_proba(X_train)[:, 1]\n",
    "    test_probs = clf.predict_proba(X_test)[:, 1]\n",
    "\n",
    "    # Assign predicted probabilities back to train and test dataframes\n",
    "    train_df['predicted_prob'] = train_probs\n",
    "    test_df['predicted_prob'] = test_probs\n",
    "\n",
    "    k = 10\n",
    "\n",
    "    # Iterate over unique dates in train_df for in-sample data\n",
    "    for date in train_df['date'].unique():\n",
    "        date_data = train_df[train_df['date'] == date]\n",
    "        sorted_data = date_data.sort_values(by='predicted_prob', ascending=False)\n",
    "\n",
    "        long_tickers = sorted_data.head(k)[['date', 'TICKER', 'predicted_prob']]\n",
    "        short_tickers = sorted_data.tail(k)[['date', 'TICKER', 'predicted_prob']]\n",
    "\n",
    "        in_sample_long_portfolios = pd.concat([in_sample_long_portfolios, long_tickers])\n",
    "        in_sample_short_portfolios = pd.concat([in_sample_short_portfolios, short_tickers])\n",
    "\n",
    "    # Iterate over unique dates in test_df for out-of-sample data\n",
    "    for date in test_df['date'].unique():\n",
    "        date_data = test_df[test_df['date'] == date]\n",
    "        sorted_data = date_data.sort_values(by='predicted_prob', ascending=False)\n",
    "\n",
    "        long_tickers = sorted_data.head(k)[['date', 'TICKER', 'predicted_prob']]\n",
    "        short_tickers = sorted_data.tail(k)[['date', 'TICKER', 'predicted_prob']]\n",
    "\n",
    "        out_of_sample_long_portfolios = pd.concat([out_of_sample_long_portfolios, long_tickers])\n",
    "        out_of_sample_short_portfolios = pd.concat([out_of_sample_short_portfolios, short_tickers])\n"
   ]
  },
  {
   "cell_type": "markdown",
   "metadata": {},
   "source": [
    "# Portfolios"
   ]
  },
  {
   "cell_type": "code",
   "execution_count": 1,
   "metadata": {},
   "outputs": [
    {
     "ename": "NameError",
     "evalue": "name 'in_sample_long_portfolios' is not defined",
     "output_type": "error",
     "traceback": [
      "\u001b[0;31m---------------------------------------------------------------------------\u001b[0m",
      "\u001b[0;31mNameError\u001b[0m                                 Traceback (most recent call last)",
      "\u001b[1;32m/Users/jacobbarcelona/Desktop/Deep Learning Statistical Arbitrage/models/rf_model.ipynb Cell 12\u001b[0m line \u001b[0;36m2\n\u001b[1;32m      <a href='vscode-notebook-cell:/Users/jacobbarcelona/Desktop/Deep%20Learning%20Statistical%20Arbitrage/models/rf_model.ipynb#X63sZmlsZQ%3D%3D?line=0'>1</a>\u001b[0m \u001b[39m#pickle the porfolios and returns df\u001b[39;00m\n\u001b[0;32m----> <a href='vscode-notebook-cell:/Users/jacobbarcelona/Desktop/Deep%20Learning%20Statistical%20Arbitrage/models/rf_model.ipynb#X63sZmlsZQ%3D%3D?line=1'>2</a>\u001b[0m in_sample_long_portfolios\u001b[39m.\u001b[39mto_pickle(\u001b[39m'\u001b[39m\u001b[39m../data/rf_results/in_sample_long_portfolios.pkl\u001b[39m\u001b[39m'\u001b[39m)\n\u001b[1;32m      <a href='vscode-notebook-cell:/Users/jacobbarcelona/Desktop/Deep%20Learning%20Statistical%20Arbitrage/models/rf_model.ipynb#X63sZmlsZQ%3D%3D?line=2'>3</a>\u001b[0m in_sample_short_portfolios\u001b[39m.\u001b[39mto_pickle(\u001b[39m'\u001b[39m\u001b[39m../data/rf_results/in_sample_short_portfolios.pkl\u001b[39m\u001b[39m'\u001b[39m)\n\u001b[1;32m      <a href='vscode-notebook-cell:/Users/jacobbarcelona/Desktop/Deep%20Learning%20Statistical%20Arbitrage/models/rf_model.ipynb#X63sZmlsZQ%3D%3D?line=3'>4</a>\u001b[0m out_of_sample_long_portfolios\u001b[39m.\u001b[39mto_pickle(\u001b[39m'\u001b[39m\u001b[39m../data/rf_results/out_of_sample_long_portfolios.pkl\u001b[39m\u001b[39m'\u001b[39m)\n",
      "\u001b[0;31mNameError\u001b[0m: name 'in_sample_long_portfolios' is not defined"
     ]
    }
   ],
   "source": [
    "#pickle the porfolios and returns df\n",
    "in_sample_long_portfolios.to_csv('../data/rf_results/in_sample_long_portfolios.csv')\n",
    "in_sample_short_portfolios.to_csv('../data/rf_results/in_sample_short_portfolios.csv')\n",
    "out_of_sample_long_portfolios.to_csv('../data/rf_results/out_of_sample_long_portfolios.csv')\n",
    "out_of_sample_short_portfolios.to_csv('../data/rf_results/out_of_sample_short_portfolios.csv')\n"
   ]
  },
  {
   "cell_type": "markdown",
   "metadata": {},
   "source": [
    "# Raw Returns"
   ]
  },
  {
   "cell_type": "code",
   "execution_count": 29,
   "metadata": {},
   "outputs": [
    {
     "name": "stderr",
     "output_type": "stream",
     "text": [
      "100%|██████████| 34/34 [5:27:06<00:00, 577.25s/it]   \n"
     ]
    }
   ],
   "source": [
    "import pandas as pd\n",
    "from tqdm import tqdm\n",
    "from sklearn.ensemble import RandomForestRegressor\n",
    "from sklearn.metrics import mean_squared_error\n",
    "import numpy as np\n",
    "\n",
    "# Creating separate DataFrames for in-sample and out-of-sample portfolios\n",
    "in_sample_long_portfolios = pd.DataFrame()\n",
    "out_of_sample_long_portfolios = pd.DataFrame()\n",
    "\n",
    "in_sample_short_portfolios = pd.DataFrame()\n",
    "out_of_sample_short_portfolios = pd.DataFrame()\n",
    "\n",
    "# Assuming study_periods contains the train-test split dataframes\n",
    "for train_df, test_df in tqdm(study_periods):\n",
    "    X_train = train_df[['standardized_return']]\n",
    "    y_train = train_df['RET']  # Change to 'RET' to predict actual returns\n",
    "\n",
    "    X_test = test_df[['standardized_return']]\n",
    "    y_test = test_df['RET']  # Change to 'RET' to predict actual returns\n",
    "\n",
    "    regr = RandomForestRegressor(n_estimators=1000, max_depth=20, random_state=42)\n",
    "\n",
    "    # Train the regressor\n",
    "    regr.fit(X_train, y_train)\n",
    "\n",
    "    # Predict on both train and test data\n",
    "    train_preds = regr.predict(X_train)\n",
    "    test_preds = regr.predict(X_test)\n",
    "\n",
    "    # Assign predicted returns back to train and test dataframes\n",
    "    train_df['predicted_return'] = train_preds\n",
    "    test_df['predicted_return'] = test_preds\n",
    "\n",
    "    k = 10  # Number of positions to take for both long and short portfolios\n",
    "\n",
    "    # Iterate over unique dates in train_df for in-sample data\n",
    "    for date in train_df['date'].unique():\n",
    "        date_data = train_df[train_df['date'] == date]\n",
    "\n",
    "        # Select the top k stocks with the highest predicted return\n",
    "        long_tickers = date_data.nlargest(k, 'predicted_return')[['date', 'TICKER', 'predicted_return']]\n",
    "        # Select the bottom k stocks with the lowest predicted return\n",
    "        short_tickers = date_data.nsmallest(k, 'predicted_return')[['date', 'TICKER', 'predicted_return']]\n",
    "\n",
    "        in_sample_long_portfolios = pd.concat([in_sample_long_portfolios, long_tickers])\n",
    "        in_sample_short_portfolios = pd.concat([in_sample_short_portfolios, short_tickers])\n",
    "\n",
    "    # Iterate over unique dates in test_df for out-of-sample data\n",
    "    for date in test_df['date'].unique():\n",
    "        date_data = test_df[test_df['date'] == date]\n",
    "\n",
    "        # Select the top k stocks with the highest predicted return\n",
    "        long_tickers = date_data.nlargest(k, 'predicted_return')[['date', 'TICKER', 'predicted_return']]\n",
    "        # Select the bottom k stocks with the lowest predicted return\n",
    "        short_tickers = date_data.nsmallest(k, 'predicted_return')[['date', 'TICKER', 'predicted_return']]\n",
    "\n",
    "        out_of_sample_long_portfolios = pd.concat([out_of_sample_long_portfolios, long_tickers])\n",
    "        out_of_sample_short_portfolios = pd.concat([out_of_sample_short_portfolios, short_tickers])\n"
   ]
  },
  {
   "cell_type": "code",
   "execution_count": null,
   "metadata": {},
   "outputs": [],
   "source": [
    "#Optional parameter target_type: 'cross_sectional_median(default)','buckets(10 buckets)','raw_returns'.\n",
    "study_periods=create_study_periods(df,n_periods=23,window_size=240,trade_size=250,train_size=750,forward_roll=250,start_date=datetime(1990,1,1),end_date=datetime(2015,12,31))"
   ]
  }
 ],
 "metadata": {
  "kernelspec": {
   "display_name": "Python 3",
   "language": "python",
   "name": "python3"
  },
  "language_info": {
   "codemirror_mode": {
    "name": "ipython",
    "version": 3
   },
   "file_extension": ".py",
   "mimetype": "text/x-python",
   "name": "python",
   "nbconvert_exporter": "python",
   "pygments_lexer": "ipython3",
   "version": "3.9.16"
  },
  "orig_nbformat": 4
 },
 "nbformat": 4,
 "nbformat_minor": 2
}
