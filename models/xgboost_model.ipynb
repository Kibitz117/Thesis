{
 "cells": [
  {
   "cell_type": "code",
   "execution_count": 5,
   "metadata": {},
   "outputs": [],
   "source": [
    "#import xgboost\n",
    "import pandas as pd\n",
    "import numpy as np\n",
    "import matplotlib.pyplot as plt\n",
    "from tqdm import tqdm\n",
    "import yfinance as yf\n",
    "import sys\n",
    "from datetime import datetime\n",
    "sys.path.append('../data_func')\n",
    "\n",
    "from data_helper_functions import create_study_periods\n",
    "import xgboost as xgb"
   ]
  },
  {
   "cell_type": "code",
   "execution_count": 6,
   "metadata": {},
   "outputs": [],
   "source": [
    "df=pd.read_csv('../data/crsp_ff_adjusted.csv')\n",
    "df.drop(columns=['Unnamed: 0'],inplace=True)\n",
    "df['date'] = pd.to_datetime(df['date'])\n",
    "df.dropna(subset=['RET'],inplace=True)"
   ]
  },
  {
   "cell_type": "code",
   "execution_count": 7,
   "metadata": {},
   "outputs": [
    {
     "name": "stderr",
     "output_type": "stream",
     "text": [
      " 89%|████████▉ | 34/38 [00:10<00:01,  3.38it/s]\n"
     ]
    },
    {
     "name": "stdout",
     "output_type": "stream",
     "text": [
      "Reached the end of the dataset.\n"
     ]
    }
   ],
   "source": [
    "study_periods=create_study_periods(df,n_periods=23,window_size=240,trade_size=250,train_size=750,forward_roll=250,start_date=datetime(1990,1,1),end_date=datetime(2015,12,31),target_type='cross_sectional_median')"
   ]
  },
  {
   "cell_type": "code",
   "execution_count": 9,
   "metadata": {},
   "outputs": [
    {
     "name": "stderr",
     "output_type": "stream",
     "text": [
      "  0%|          | 0/34 [00:00<?, ?it/s]"
     ]
    },
    {
     "name": "stderr",
     "output_type": "stream",
     "text": [
      "100%|██████████| 34/34 [01:27<00:00,  2.58s/it]\n"
     ]
    }
   ],
   "source": [
    "# Creating separate DataFrames for in-sample and out-of-sample portfolios\n",
    "in_sample_long_portfolios = pd.DataFrame()\n",
    "out_of_sample_long_portfolios = pd.DataFrame()\n",
    "\n",
    "in_sample_short_portfolios = pd.DataFrame()\n",
    "out_of_sample_short_portfolios = pd.DataFrame()\n",
    "\n",
    "\n",
    "for train_df, test_df in tqdm(study_periods):\n",
    "    X_train = train_df[['standardized_return']]\n",
    "    y_train = train_df['target'].replace({0: 0, 1: 1}).astype(int)\n",
    "\n",
    "    X_test = test_df[['standardized_return']]\n",
    "    y_test = test_df['target'].replace({0: 0, 1: 1}).astype(int)\n",
    "\n",
    "    # Calculate class weights\n",
    "    num_neg, num_pos = np.bincount(y_train)\n",
    "    scale_pos_weight = (num_neg / num_pos) * 5  # Multiply by 5 as needed\n",
    "\n",
    "    clf = xgb.XGBClassifier(n_estimators=1000, max_depth=20, random_state=42, scale_pos_weight=scale_pos_weight, use_label_encoder=False, eval_metric='logloss')\n",
    "\n",
    "    # Train the classifier\n",
    "    clf.fit(X_train, y_train)\n",
    "\n",
    "    # Predict on both train and test data\n",
    "    train_probs = clf.predict_proba(X_train)[:, 1]\n",
    "    test_probs = clf.predict_proba(X_test)[:, 1]\n",
    "\n",
    "    # Assign predicted probabilities back to train and test dataframes\n",
    "    train_df['predicted_prob'] = train_probs\n",
    "    test_df['predicted_prob'] = test_probs\n",
    "\n",
    "\n",
    "    k = 10\n",
    "\n",
    "    # Iterate over unique dates in train_df for in-sample data\n",
    "    for date in train_df['date'].unique():\n",
    "        date_data = train_df[train_df['date'] == date]\n",
    "        sorted_data = date_data.sort_values(by='predicted_prob', ascending=False)\n",
    "\n",
    "        long_tickers = sorted_data.head(k)[['date', 'TICKER', 'predicted_prob']]\n",
    "        short_tickers = sorted_data.tail(k)[['date', 'TICKER', 'predicted_prob']]\n",
    "\n",
    "        in_sample_long_portfolios = pd.concat([in_sample_long_portfolios, long_tickers])\n",
    "        in_sample_short_portfolios = pd.concat([in_sample_short_portfolios, short_tickers])\n",
    "\n",
    "    # Iterate over unique dates in test_df for out-of-sample data\n",
    "    for date in test_df['date'].unique():\n",
    "        date_data = test_df[test_df['date'] == date]\n",
    "        sorted_data = date_data.sort_values(by='predicted_prob', ascending=False)\n",
    "\n",
    "        long_tickers = sorted_data.head(k)[['date', 'TICKER', 'predicted_prob']]\n",
    "        short_tickers = sorted_data.tail(k)[['date', 'TICKER', 'predicted_prob']]\n",
    "\n",
    "        out_of_sample_long_portfolios = pd.concat([out_of_sample_long_portfolios, long_tickers])\n",
    "        out_of_sample_short_portfolios = pd.concat([out_of_sample_short_portfolios, short_tickers])"
   ]
  },
  {
   "cell_type": "code",
   "execution_count": 10,
   "metadata": {},
   "outputs": [],
   "source": [
    "#export portfolios\n",
    "in_sample_long_portfolios.to_csv('../data/xgb_results/in_sample_long_portfolios.csv')\n",
    "out_of_sample_long_portfolios.to_csv('../data/xgb_results/out_of_sample_long_portfolios.csv')\n",
    "in_sample_short_portfolios.to_csv('../data/xgb_results/in_sample_short_portfolios.csv')\n",
    "out_of_sample_short_portfolios.to_csv('../data/xgb_results/out_of_sample_short_portfolios.csv')"
   ]
  },
  {
   "cell_type": "code",
   "execution_count": null,
   "metadata": {},
   "outputs": [],
   "source": []
  }
 ],
 "metadata": {
  "kernelspec": {
   "display_name": "Python 3",
   "language": "python",
   "name": "python3"
  },
  "language_info": {
   "codemirror_mode": {
    "name": "ipython",
    "version": 3
   },
   "file_extension": ".py",
   "mimetype": "text/x-python",
   "name": "python",
   "nbconvert_exporter": "python",
   "pygments_lexer": "ipython3",
   "version": "3.9.16"
  }
 },
 "nbformat": 4,
 "nbformat_minor": 2
}
