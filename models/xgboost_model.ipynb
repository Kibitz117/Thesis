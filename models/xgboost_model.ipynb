{
 "cells": [
  {
   "cell_type": "code",
   "execution_count": 1,
   "metadata": {},
   "outputs": [],
   "source": [
    "#import xgboost\n",
    "import pandas as pd\n",
    "import numpy as np\n",
    "import matplotlib.pyplot as plt\n",
    "from tqdm import tqdm\n",
    "import yfinance as yf\n",
    "import sys\n",
    "from datetime import datetime\n",
    "sys.path.append('../data_func')\n",
    "\n",
    "from data_helper_functions import create_study_periods\n",
    "import xgboost as xgb"
   ]
  },
  {
   "cell_type": "code",
   "execution_count": 2,
   "metadata": {},
   "outputs": [],
   "source": [
    "df=pd.read_csv('../data/crsp_ff_adjusted.csv')\n",
    "df.drop(columns=['Unnamed: 0'],inplace=True)\n",
    "df['date'] = pd.to_datetime(df['date'])\n",
    "df.dropna(subset=['RET'],inplace=True)"
   ]
  },
  {
   "cell_type": "code",
   "execution_count": 3,
   "metadata": {},
   "outputs": [
    {
     "name": "stderr",
     "output_type": "stream",
     "text": [
      "  0%|          | 0/38 [00:00<?, ?it/s]"
     ]
    },
    {
     "name": "stderr",
     "output_type": "stream",
     "text": [
      " 89%|████████▉ | 34/38 [00:48<00:05,  1.42s/it]"
     ]
    },
    {
     "name": "stdout",
     "output_type": "stream",
     "text": [
      "Reached the end of the dataset.\n"
     ]
    },
    {
     "name": "stderr",
     "output_type": "stream",
     "text": [
      "\n"
     ]
    }
   ],
   "source": [
    "study_periods=create_study_periods(df,n_periods=23,window_size=240,trade_size=250,train_size=750,forward_roll=250,start_date=datetime(1990,1,1),end_date=datetime(2015,12,31),target_type='buckets')"
   ]
  },
  {
   "cell_type": "code",
   "execution_count": 4,
   "metadata": {},
   "outputs": [
    {
     "data": {
      "text/html": [
       "<div>\n",
       "<style scoped>\n",
       "    .dataframe tbody tr th:only-of-type {\n",
       "        vertical-align: middle;\n",
       "    }\n",
       "\n",
       "    .dataframe tbody tr th {\n",
       "        vertical-align: top;\n",
       "    }\n",
       "\n",
       "    .dataframe thead th {\n",
       "        text-align: right;\n",
       "    }\n",
       "</style>\n",
       "<table border=\"1\" class=\"dataframe\">\n",
       "  <thead>\n",
       "    <tr style=\"text-align: right;\">\n",
       "      <th></th>\n",
       "      <th>date</th>\n",
       "      <th>TICKER</th>\n",
       "      <th>RET</th>\n",
       "      <th>rolling_mean</th>\n",
       "      <th>standardized_return</th>\n",
       "      <th>target</th>\n",
       "    </tr>\n",
       "  </thead>\n",
       "  <tbody>\n",
       "    <tr>\n",
       "      <th>0</th>\n",
       "      <td>1990-02-01</td>\n",
       "      <td>SUNW</td>\n",
       "      <td>0.012903</td>\n",
       "      <td>0.012903</td>\n",
       "      <td>5.171781</td>\n",
       "      <td>9.0</td>\n",
       "    </tr>\n",
       "    <tr>\n",
       "      <th>1</th>\n",
       "      <td>1990-02-01</td>\n",
       "      <td>MYG</td>\n",
       "      <td>0.014085</td>\n",
       "      <td>0.014085</td>\n",
       "      <td>5.674265</td>\n",
       "      <td>9.0</td>\n",
       "    </tr>\n",
       "    <tr>\n",
       "      <th>2</th>\n",
       "      <td>1990-02-01</td>\n",
       "      <td>INTC</td>\n",
       "      <td>-0.012658</td>\n",
       "      <td>-0.012658</td>\n",
       "      <td>-5.694534</td>\n",
       "      <td>0.0</td>\n",
       "    </tr>\n",
       "    <tr>\n",
       "      <th>3</th>\n",
       "      <td>1990-02-01</td>\n",
       "      <td>CB</td>\n",
       "      <td>0.005634</td>\n",
       "      <td>0.005634</td>\n",
       "      <td>2.081634</td>\n",
       "      <td>9.0</td>\n",
       "    </tr>\n",
       "    <tr>\n",
       "      <th>4</th>\n",
       "      <td>1990-02-01</td>\n",
       "      <td>BUD</td>\n",
       "      <td>-0.026490</td>\n",
       "      <td>-0.026490</td>\n",
       "      <td>-11.574699</td>\n",
       "      <td>0.0</td>\n",
       "    </tr>\n",
       "    <tr>\n",
       "      <th>...</th>\n",
       "      <td>...</td>\n",
       "      <td>...</td>\n",
       "      <td>...</td>\n",
       "      <td>...</td>\n",
       "      <td>...</td>\n",
       "      <td>...</td>\n",
       "    </tr>\n",
       "    <tr>\n",
       "      <th>248617</th>\n",
       "      <td>1992-01-20</td>\n",
       "      <td>AEP</td>\n",
       "      <td>-0.011628</td>\n",
       "      <td>0.000949</td>\n",
       "      <td>0.089889</td>\n",
       "      <td>9.0</td>\n",
       "    </tr>\n",
       "    <tr>\n",
       "      <th>248618</th>\n",
       "      <td>1992-01-20</td>\n",
       "      <td>FSI</td>\n",
       "      <td>-0.025575</td>\n",
       "      <td>0.000171</td>\n",
       "      <td>-0.240946</td>\n",
       "      <td>4.0</td>\n",
       "    </tr>\n",
       "    <tr>\n",
       "      <th>248619</th>\n",
       "      <td>1992-01-20</td>\n",
       "      <td>BF</td>\n",
       "      <td>0.004484</td>\n",
       "      <td>0.000464</td>\n",
       "      <td>-0.116027</td>\n",
       "      <td>8.0</td>\n",
       "    </tr>\n",
       "    <tr>\n",
       "      <th>248620</th>\n",
       "      <td>1992-01-20</td>\n",
       "      <td>MBI</td>\n",
       "      <td>-0.018041</td>\n",
       "      <td>0.001900</td>\n",
       "      <td>0.494370</td>\n",
       "      <td>7.0</td>\n",
       "    </tr>\n",
       "    <tr>\n",
       "      <th>248621</th>\n",
       "      <td>1992-01-20</td>\n",
       "      <td>ETR</td>\n",
       "      <td>-0.009009</td>\n",
       "      <td>0.001005</td>\n",
       "      <td>0.113625</td>\n",
       "      <td>6.0</td>\n",
       "    </tr>\n",
       "  </tbody>\n",
       "</table>\n",
       "<p>248622 rows × 6 columns</p>\n",
       "</div>"
      ],
      "text/plain": [
       "             date TICKER       RET  rolling_mean  standardized_return  target\n",
       "0      1990-02-01   SUNW  0.012903      0.012903             5.171781     9.0\n",
       "1      1990-02-01    MYG  0.014085      0.014085             5.674265     9.0\n",
       "2      1990-02-01   INTC -0.012658     -0.012658            -5.694534     0.0\n",
       "3      1990-02-01     CB  0.005634      0.005634             2.081634     9.0\n",
       "4      1990-02-01    BUD -0.026490     -0.026490           -11.574699     0.0\n",
       "...           ...    ...       ...           ...                  ...     ...\n",
       "248617 1992-01-20    AEP -0.011628      0.000949             0.089889     9.0\n",
       "248618 1992-01-20    FSI -0.025575      0.000171            -0.240946     4.0\n",
       "248619 1992-01-20     BF  0.004484      0.000464            -0.116027     8.0\n",
       "248620 1992-01-20    MBI -0.018041      0.001900             0.494370     7.0\n",
       "248621 1992-01-20    ETR -0.009009      0.001005             0.113625     6.0\n",
       "\n",
       "[248622 rows x 6 columns]"
      ]
     },
     "execution_count": 4,
     "metadata": {},
     "output_type": "execute_result"
    }
   ],
   "source": [
    "study_periods[0][0]"
   ]
  },
  {
   "cell_type": "code",
   "execution_count": 6,
   "metadata": {},
   "outputs": [
    {
     "name": "stderr",
     "output_type": "stream",
     "text": [
      "  0%|          | 0/34 [00:00<?, ?it/s]"
     ]
    },
    {
     "name": "stderr",
     "output_type": "stream",
     "text": [
      "100%|██████████| 34/34 [07:53<00:00, 13.93s/it]"
     ]
    },
    {
     "name": "stdout",
     "output_type": "stream",
     "text": [
      "Average Train Accuracy: 0.2646486534862535\n",
      "Average Test Accuracy: 0.19489763615185296\n"
     ]
    },
    {
     "name": "stderr",
     "output_type": "stream",
     "text": [
      "\n"
     ]
    }
   ],
   "source": [
    "#EDIT CODE TO DO REGRESSION or CLASSIFICATION\n",
    "from tqdm import tqdm\n",
    "import pandas as pd\n",
    "from sklearn.metrics import accuracy_score\n",
    "\n",
    "def train_and_evaluate_rf(study_periods):\n",
    "    in_sample_accuracies = []\n",
    "    out_of_sample_accuracies = []\n",
    "\n",
    "    for train_df, test_df in tqdm(study_periods):\n",
    "        train_df.dropna(subset=['target'], inplace=True)\n",
    "        test_df.dropna(subset=['target'], inplace=True)\n",
    "\n",
    "        # Update X_train, y_train, X_test, y_test after dropping NaNs\n",
    "        X_train = train_df[['standardized_return']]\n",
    "        y_train = train_df['target']\n",
    "        X_test = test_df[['standardized_return']]\n",
    "        y_test = test_df['target']\n",
    "\n",
    "        # Initialize the RandomForestClassifier\n",
    "        clf = xgb.XGBClassifier(n_estimators=100, max_depth=20,num_class=10)\n",
    "\n",
    "        # Train the classifier\n",
    "        clf.fit(X_train, y_train)\n",
    "\n",
    "        # Predict on both train and test data\n",
    "        train_preds = clf.predict(X_train)\n",
    "        test_preds = clf.predict(X_test)\n",
    "\n",
    "        # Calculate accuracies\n",
    "        train_accuracy = accuracy_score(y_train, train_preds)\n",
    "        test_accuracy = accuracy_score(y_test, test_preds)\n",
    "\n",
    "        in_sample_accuracies.append(train_accuracy)\n",
    "        out_of_sample_accuracies.append(test_accuracy)\n",
    "\n",
    "    # Return the average accuracies\n",
    "    avg_train_accuracy = sum(in_sample_accuracies) / len(in_sample_accuracies)\n",
    "    avg_test_accuracy = sum(out_of_sample_accuracies) / len(out_of_sample_accuracies)\n",
    "\n",
    "    return avg_train_accuracy, avg_test_accuracy\n",
    "\n",
    "# Example Usage\n",
    "# Assuming study_periods contains the train-test split dataframes\n",
    "avg_train_accuracy, avg_test_accuracy = train_and_evaluate_rf(study_periods)\n",
    "print(\"Average Train Accuracy:\", avg_train_accuracy)\n",
    "print(\"Average Test Accuracy:\", avg_test_accuracy)\n"
   ]
  },
  {
   "cell_type": "code",
   "execution_count": 13,
   "metadata": {},
   "outputs": [
    {
     "name": "stderr",
     "output_type": "stream",
     "text": [
      "100%|██████████| 34/34 [02:05<00:00,  3.70s/it]\n"
     ]
    }
   ],
   "source": [
    "# Creating separate DataFrames for in-sample and out-of-sample portfolios\n",
    "in_sample_long_portfolios = pd.DataFrame()\n",
    "out_of_sample_long_portfolios = pd.DataFrame()\n",
    "\n",
    "in_sample_short_portfolios = pd.DataFrame()\n",
    "out_of_sample_short_portfolios = pd.DataFrame()\n",
    "\n",
    "\n",
    "for train_df, test_df in tqdm(study_periods):\n",
    "    X_train = train_df[['standardized_return']]\n",
    "    y_train = train_df['target'].replace({0: 0, 1: 1}).astype(int)\n",
    "\n",
    "    X_test = test_df[['standardized_return']]\n",
    "    y_test = test_df['target'].replace({0: 0, 1: 1}).astype(int)\n",
    "\n",
    "    # Calculate class weights\n",
    "    num_neg, num_pos = np.bincount(y_train)\n",
    "    scale_pos_weight = (num_neg / num_pos) * 5  # Multiply by 5 as needed\n",
    "\n",
    "    # clf = xgb.XGBClassifier(n_estimators=1000, max_depth=20, random_state=42, scale_pos_weight=scale_pos_weight, use_label_encoder=False, eval_metric='logloss')\n",
    "    reg=xgb.XGBRegressor(n_estimators=1000, max_depth=20, random_state=42, scale_pos_weight=scale_pos_weight, use_label_encoder=False, eval_metric='logloss')\n",
    "    # Train the classifier\n",
    "    # clf.fit(X_train, y_train)\n",
    "    reg=reg.fit(X_train,y_train)\n",
    "\n",
    "    # Predict on both train and test data\n",
    "    train_probs = clf.predict_proba(X_train)[:, 1]\n",
    "    test_probs = clf.predict_proba(X_test)[:, 1]\n",
    "\n",
    "    # Assign predicted probabilities back to train and test dataframes\n",
    "    train_df['predicted_prob'] = train_probs\n",
    "    test_df['predicted_prob'] = test_probs\n",
    "\n",
    "\n",
    "    k = 10\n",
    "\n",
    "    # Iterate over unique dates in train_df for in-sample data\n",
    "    for date in train_df['date'].unique():\n",
    "        date_data = train_df[train_df['date'] == date]\n",
    "        sorted_data = date_data.sort_values(by='predicted_prob', ascending=False)\n",
    "\n",
    "        long_tickers = sorted_data.head(k)[['date', 'TICKER', 'predicted_prob']]\n",
    "        short_tickers = sorted_data.tail(k)[['date', 'TICKER', 'predicted_prob']]\n",
    "\n",
    "        in_sample_long_portfolios = pd.concat([in_sample_long_portfolios, long_tickers])\n",
    "        in_sample_short_portfolios = pd.concat([in_sample_short_portfolios, short_tickers])\n",
    "\n",
    "    # Iterate over unique dates in test_df for out-of-sample data\n",
    "    for date in test_df['date'].unique():\n",
    "        date_data = test_df[test_df['date'] == date]\n",
    "        sorted_data = date_data.sort_values(by='predicted_prob', ascending=False)\n",
    "\n",
    "        long_tickers = sorted_data.head(k)[['date', 'TICKER', 'predicted_prob']]\n",
    "        short_tickers = sorted_data.tail(k)[['date', 'TICKER', 'predicted_prob']]\n",
    "\n",
    "        out_of_sample_long_portfolios = pd.concat([out_of_sample_long_portfolios, long_tickers])\n",
    "        out_of_sample_short_portfolios = pd.concat([out_of_sample_short_portfolios, short_tickers])"
   ]
  },
  {
   "cell_type": "code",
   "execution_count": 14,
   "metadata": {},
   "outputs": [],
   "source": [
    "#export portfolios\n",
    "in_sample_long_portfolios.to_csv('../data/xgb_results/in_sample_long_portfolios.csv')\n",
    "out_of_sample_long_portfolios.to_csv('../data/xgb_results/out_of_sample_long_portfolios.csv')\n",
    "in_sample_short_portfolios.to_csv('../data/xgb_results/in_sample_short_portfolios.csv')\n",
    "out_of_sample_short_portfolios.to_csv('../data/xgb_results/out_of_sample_short_portfolios.csv')"
   ]
  },
  {
   "cell_type": "code",
   "execution_count": null,
   "metadata": {},
   "outputs": [],
   "source": []
  }
 ],
 "metadata": {
  "kernelspec": {
   "display_name": "Python 3",
   "language": "python",
   "name": "python3"
  },
  "language_info": {
   "codemirror_mode": {
    "name": "ipython",
    "version": 3
   },
   "file_extension": ".py",
   "mimetype": "text/x-python",
   "name": "python",
   "nbconvert_exporter": "python",
   "pygments_lexer": "ipython3",
   "version": "3.9.16"
  }
 },
 "nbformat": 4,
 "nbformat_minor": 2
}
