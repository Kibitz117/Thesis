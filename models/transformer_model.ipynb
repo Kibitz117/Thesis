{
 "cells": [
  {
   "cell_type": "code",
   "execution_count": null,
   "metadata": {},
   "outputs": [],
   "source": [
    "import pandas as pd\n",
    "import numpy as np\n",
    "import torch\n",
    "import torch.nn as nn\n",
    "import torch.optim as optim\n",
    "from torch.utils.data import DataLoader, TensorDataset\n",
    "from tqdm import tqdm\n",
    "import sys\n",
    "import math\n",
    "from datetime import datetime\n",
    "#import relu\n",
    "from torch.nn import functional as F\n",
    "sys.path.append('../models')\n",
    "sys.path.append('../utils')\n",
    "sys.path.append('../data_func')\n",
    "from sharpe_loss import SharpeLoss\n",
    "from data_helper_functions import create_study_periods,create_tensors\n",
    "from transformer_model import TimeSeriesTransformer,ScaledMultiHeadAttention"
   ]
  },
  {
   "cell_type": "markdown",
   "metadata": {},
   "source": [
    "We can train multiple transformer models. 1. Cross-sectional-Median Target 2. Raw-returns target 3. Sharpe ratio objective 4. Selective Transformer Model with all of the previous iterations. We can also consider Stochastic Attention, using Attention to calculate a confidence score, and building a confidence model as a first pass. (Cross-sectional median confidence as first filter, and then use the confidence score to select the top 10% of stocks to train on.)\n",
    "All in all, because of compute the goal shouldn't be to train a model that generates an insane sharpe, but show the potential of Selective ML in portfolio building and how it improves over current SOTA methods. The paper should mostly be an analysis on what types of stocks the model does not learn from/ abstains from.  We can't afford to hyper-parameter tune a lot."
   ]
  },
  {
   "cell_type": "code",
   "execution_count": 3,
   "metadata": {},
   "outputs": [
    {
     "data": {
      "text/html": [
       "<div>\n",
       "<style scoped>\n",
       "    .dataframe tbody tr th:only-of-type {\n",
       "        vertical-align: middle;\n",
       "    }\n",
       "\n",
       "    .dataframe tbody tr th {\n",
       "        vertical-align: top;\n",
       "    }\n",
       "\n",
       "    .dataframe thead th {\n",
       "        text-align: right;\n",
       "    }\n",
       "</style>\n",
       "<table border=\"1\" class=\"dataframe\">\n",
       "  <thead>\n",
       "    <tr style=\"text-align: right;\">\n",
       "      <th></th>\n",
       "      <th>date</th>\n",
       "      <th>TICKER</th>\n",
       "      <th>RET</th>\n",
       "      <th>Adj_RET_Mkt</th>\n",
       "      <th>Adj_RET_Mkt_SMB</th>\n",
       "      <th>Adj_RET_Mkt_SMB_HML</th>\n",
       "    </tr>\n",
       "  </thead>\n",
       "  <tbody>\n",
       "    <tr>\n",
       "      <th>0</th>\n",
       "      <td>1990-02-01</td>\n",
       "      <td>SUNW</td>\n",
       "      <td>0.012903</td>\n",
       "      <td>7.292903</td>\n",
       "      <td>8.532903</td>\n",
       "      <td>7.682903</td>\n",
       "    </tr>\n",
       "    <tr>\n",
       "      <th>1</th>\n",
       "      <td>1990-02-01</td>\n",
       "      <td>MYG</td>\n",
       "      <td>0.014085</td>\n",
       "      <td>7.294085</td>\n",
       "      <td>8.534085</td>\n",
       "      <td>7.684085</td>\n",
       "    </tr>\n",
       "    <tr>\n",
       "      <th>2</th>\n",
       "      <td>1990-02-01</td>\n",
       "      <td>INTC</td>\n",
       "      <td>-0.012658</td>\n",
       "      <td>7.267342</td>\n",
       "      <td>8.507342</td>\n",
       "      <td>7.657342</td>\n",
       "    </tr>\n",
       "    <tr>\n",
       "      <th>3</th>\n",
       "      <td>1990-02-01</td>\n",
       "      <td>CB</td>\n",
       "      <td>0.005634</td>\n",
       "      <td>7.285634</td>\n",
       "      <td>8.525634</td>\n",
       "      <td>7.675634</td>\n",
       "    </tr>\n",
       "    <tr>\n",
       "      <th>4</th>\n",
       "      <td>1990-02-01</td>\n",
       "      <td>BUD</td>\n",
       "      <td>-0.026490</td>\n",
       "      <td>7.253510</td>\n",
       "      <td>8.493510</td>\n",
       "      <td>7.643510</td>\n",
       "    </tr>\n",
       "    <tr>\n",
       "      <th>...</th>\n",
       "      <td>...</td>\n",
       "      <td>...</td>\n",
       "      <td>...</td>\n",
       "      <td>...</td>\n",
       "      <td>...</td>\n",
       "      <td>...</td>\n",
       "    </tr>\n",
       "    <tr>\n",
       "      <th>3266862</th>\n",
       "      <td>2015-12-31</td>\n",
       "      <td>KMI</td>\n",
       "      <td>0.026135</td>\n",
       "      <td>-0.533865</td>\n",
       "      <td>-4.133865</td>\n",
       "      <td>-3.713865</td>\n",
       "    </tr>\n",
       "    <tr>\n",
       "      <th>3266863</th>\n",
       "      <td>2015-12-31</td>\n",
       "      <td>ADM</td>\n",
       "      <td>-0.005423</td>\n",
       "      <td>-0.565423</td>\n",
       "      <td>-4.165423</td>\n",
       "      <td>-3.745423</td>\n",
       "    </tr>\n",
       "    <tr>\n",
       "      <th>3266864</th>\n",
       "      <td>2015-12-31</td>\n",
       "      <td>HPE</td>\n",
       "      <td>-0.005236</td>\n",
       "      <td>-0.565236</td>\n",
       "      <td>-4.165236</td>\n",
       "      <td>-3.745236</td>\n",
       "    </tr>\n",
       "    <tr>\n",
       "      <th>3266865</th>\n",
       "      <td>2015-12-31</td>\n",
       "      <td>DIS</td>\n",
       "      <td>-0.011849</td>\n",
       "      <td>-0.571849</td>\n",
       "      <td>-4.171849</td>\n",
       "      <td>-3.751849</td>\n",
       "    </tr>\n",
       "    <tr>\n",
       "      <th>3266866</th>\n",
       "      <td>2015-12-31</td>\n",
       "      <td>TSLA</td>\n",
       "      <td>0.008064</td>\n",
       "      <td>-0.551936</td>\n",
       "      <td>-4.151936</td>\n",
       "      <td>-3.731936</td>\n",
       "    </tr>\n",
       "  </tbody>\n",
       "</table>\n",
       "<p>3266867 rows × 6 columns</p>\n",
       "</div>"
      ],
      "text/plain": [
       "              date TICKER       RET  Adj_RET_Mkt  Adj_RET_Mkt_SMB  \\\n",
       "0       1990-02-01   SUNW  0.012903     7.292903         8.532903   \n",
       "1       1990-02-01    MYG  0.014085     7.294085         8.534085   \n",
       "2       1990-02-01   INTC -0.012658     7.267342         8.507342   \n",
       "3       1990-02-01     CB  0.005634     7.285634         8.525634   \n",
       "4       1990-02-01    BUD -0.026490     7.253510         8.493510   \n",
       "...            ...    ...       ...          ...              ...   \n",
       "3266862 2015-12-31    KMI  0.026135    -0.533865        -4.133865   \n",
       "3266863 2015-12-31    ADM -0.005423    -0.565423        -4.165423   \n",
       "3266864 2015-12-31    HPE -0.005236    -0.565236        -4.165236   \n",
       "3266865 2015-12-31    DIS -0.011849    -0.571849        -4.171849   \n",
       "3266866 2015-12-31   TSLA  0.008064    -0.551936        -4.151936   \n",
       "\n",
       "         Adj_RET_Mkt_SMB_HML  \n",
       "0                   7.682903  \n",
       "1                   7.684085  \n",
       "2                   7.657342  \n",
       "3                   7.675634  \n",
       "4                   7.643510  \n",
       "...                      ...  \n",
       "3266862            -3.713865  \n",
       "3266863            -3.745423  \n",
       "3266864            -3.745236  \n",
       "3266865            -3.751849  \n",
       "3266866            -3.731936  \n",
       "\n",
       "[3266867 rows x 6 columns]"
      ]
     },
     "execution_count": 3,
     "metadata": {},
     "output_type": "execute_result"
    }
   ],
   "source": [
    "df=pd.read_csv('../data/crsp_ff_adjusted.csv')\n",
    "#drop unamed 0\n",
    "df['date'] = pd.to_datetime(df['date'])\n",
    "df.dropna(subset=['RET'],inplace=True)\n",
    "df=df.drop(columns='Unnamed: 0')\n",
    "df "
   ]
  },
  {
   "cell_type": "code",
   "execution_count": 4,
   "metadata": {},
   "outputs": [],
   "source": [
    "# #get just 2014\n",
    "df=df[df['date'].dt.year==2014]"
   ]
  },
  {
   "cell_type": "code",
   "execution_count": 5,
   "metadata": {},
   "outputs": [],
   "source": [
    "# import pandas as pd\n",
    "# import numpy as np\n",
    "# import torch\n",
    "# from torch.utils.data import TensorDataset, DataLoader\n",
    "\n",
    "# np.random.seed(42)  # for reproducibility\n",
    "\n",
    "# def generate_individual_stock_data(num_days=1000, pattern='sine', start_price=100):\n",
    "#     if pattern == 'random':\n",
    "#         price_changes = np.random.randn(num_days) * 0.5 + 0.1  # daily returns\n",
    "#         prices = np.cumsum(price_changes) + start_price  # price series\n",
    "#     elif pattern == 'sine':\n",
    "#         x = np.linspace(0, 20, num_days)\n",
    "#         prices = np.sin(x) * 10 + start_price\n",
    "#     elif pattern == 'exponential':\n",
    "#         x = np.linspace(0, 5, num_days)\n",
    "#         prices = np.exp(x) + start_price\n",
    "\n",
    "#     return prices\n",
    "\n",
    "# def process_stock_data(prices, sequence_length=250):\n",
    "#     log_returns = np.log(prices[1:] / prices[:-1])\n",
    "#     data = []\n",
    "#     labels = []\n",
    "#     for i in range(len(log_returns) - sequence_length):\n",
    "#         data.append(log_returns[i:i + sequence_length])\n",
    "#         labels.append(log_returns[i + sequence_length])\n",
    "#     return np.array(data), np.array(labels)\n",
    "\n",
    "# # Set parameters\n",
    "# num_days = 1000\n",
    "# sequence_length = 250\n",
    "# train_period = 750\n",
    "\n",
    "# # Patterns\n",
    "# patterns = ['random', 'sine', 'exponential']\n",
    "\n",
    "# # Generate data for each pattern\n",
    "# stocks_data = []\n",
    "# for pattern in patterns:\n",
    "#     prices = generate_individual_stock_data(num_days=num_days, pattern=pattern, start_price=100)\n",
    "#     stock_data, stock_labels = process_stock_data(prices, sequence_length=sequence_length)\n",
    "#     stocks_data.append((stock_data[:train_period], stock_labels[:train_period],\n",
    "#                         stock_data[train_period-sequence_length:],\n",
    "#                         stock_labels[train_period-sequence_length:]))\n",
    "\n",
    "# # Prepare the final datasets\n",
    "# train_data_combined = np.concatenate([data[0] for data in stocks_data], axis=0)\n",
    "# train_labels_combined = np.concatenate([data[1] for data in stocks_data], axis=0)\n",
    "# test_data_combined = np.concatenate([data[2] for data in stocks_data], axis=0)\n",
    "# test_labels_combined = np.concatenate([data[3] for data in stocks_data], axis=0)\n",
    "\n",
    "# # Convert to tensors\n",
    "# train_data_tensor = torch.tensor(train_data_combined, dtype=torch.float32).unsqueeze(-1)\n",
    "# train_labels_tensor = torch.tensor(train_labels_combined, dtype=torch.float32)\n",
    "# test_data_tensor = torch.tensor(test_data_combined, dtype=torch.float32).unsqueeze(-1)\n",
    "# test_labels_tensor = torch.tensor(test_labels_combined, dtype=torch.float32)\n",
    "\n",
    "# train_test_splits = [(train_data_tensor, train_labels_tensor, test_data_tensor, test_labels_tensor)]\n",
    "\n"
   ]
  },
  {
   "cell_type": "code",
   "execution_count": 6,
   "metadata": {},
   "outputs": [],
   "source": [
    "# import matplotlib.pyplot as plt\n",
    "\n",
    "# # Add this function to plot the generated stock data\n",
    "# def plot_stock_data(prices, title='Stock Prices'):\n",
    "#     plt.figure(figsize=(14, 7))\n",
    "#     plt.plot(prices, label='Price')\n",
    "#     plt.title(title)\n",
    "#     plt.xlabel('Day')\n",
    "#     plt.ylabel('Price')\n",
    "#     plt.legend()\n",
    "#     plt.show()\n",
    "\n",
    "# # Generate and plot data for each pattern\n",
    "# for pattern in patterns:\n",
    "#     prices = generate_individual_stock_data(num_days=num_days, pattern=pattern, start_price=100)\n",
    "#     plot_stock_data(prices, title=f'{pattern.capitalize()} Pattern Stock Prices')\n"
   ]
  },
  {
   "cell_type": "code",
   "execution_count": 7,
   "metadata": {},
   "outputs": [
    {
     "name": "stderr",
     "output_type": "stream",
     "text": [
      "  0%|          | 0/38 [00:00<?, ?it/s]"
     ]
    },
    {
     "name": "stdout",
     "output_type": "stream",
     "text": [
      "No data available for the period 1990-01-01 to 1992-09-27. Skipping.\n",
      "No data available for the period 1990-09-08 to 1993-06-04. Skipping.\n",
      "No data available for the period 1991-05-16 to 1994-02-09. Skipping.\n",
      "No data available for the period 1992-01-21 to 1994-10-17. Skipping.\n",
      "No data available for the period 1992-09-27 to 1995-06-24. Skipping.\n",
      "No data available for the period 1993-06-04 to 1996-02-29. Skipping.\n",
      "No data available for the period 1994-02-09 to 1996-11-05. Skipping.\n",
      "No data available for the period 1994-10-17 to 1997-07-13. Skipping.\n",
      "No data available for the period 1995-06-24 to 1998-03-20. Skipping.\n",
      "No data available for the period 1996-02-29 to 1998-11-25. Skipping.\n",
      "No data available for the period 1996-11-05 to 1999-08-02. Skipping.\n",
      "No data available for the period 1997-07-13 to 2000-04-08. Skipping.\n",
      "No data available for the period 1998-03-20 to 2000-12-14. Skipping.\n",
      "No data available for the period 1998-11-25 to 2001-08-21. Skipping.\n",
      "No data available for the period 1999-08-02 to 2002-04-28. Skipping.\n",
      "No data available for the period 2000-04-08 to 2003-01-03. Skipping.\n",
      "No data available for the period 2000-12-14 to 2003-09-10. Skipping.\n",
      "No data available for the period 2001-08-21 to 2004-05-17. Skipping.\n",
      "No data available for the period 2002-04-28 to 2005-01-22. Skipping.\n",
      "No data available for the period 2003-01-03 to 2005-09-29. Skipping.\n",
      "No data available for the period 2003-09-10 to 2006-06-06. Skipping.\n",
      "No data available for the period 2004-05-17 to 2007-02-11. Skipping.\n",
      "No data available for the period 2005-01-22 to 2007-10-19. Skipping.\n",
      "No data available for the period 2005-09-29 to 2008-06-25. Skipping.\n",
      "No data available for the period 2006-06-06 to 2009-03-02. Skipping.\n",
      "No data available for the period 2007-02-11 to 2009-11-07. Skipping.\n",
      "No data available for the period 2007-10-19 to 2010-07-15. Skipping.\n",
      "No data available for the period 2008-06-25 to 2011-03-22. Skipping.\n",
      "No data available for the period 2009-03-02 to 2011-11-27. Skipping.\n",
      "No data available for the period 2009-11-07 to 2012-08-03. Skipping.\n",
      "No data available for the period 2010-07-15 to 2013-04-10. Skipping.\n",
      "No data available for the period 2011-03-22 to 2013-12-16. Skipping.\n",
      "No data available for the period 2011-11-27 to 2014-08-23. Skipping.\n"
     ]
    },
    {
     "name": "stderr",
     "output_type": "stream",
     "text": [
      " 89%|████████▉ | 34/38 [00:00<00:00, 85.72it/s]"
     ]
    },
    {
     "name": "stdout",
     "output_type": "stream",
     "text": [
      "Reached the end of the dataset.\n"
     ]
    },
    {
     "name": "stderr",
     "output_type": "stream",
     "text": [
      "\n"
     ]
    }
   ],
   "source": [
    "#Optional parameter target_type: 'cross_sectional_median(default)','buckets(10 buckets)','raw_returns'.\n",
    "study_periods=create_study_periods(df,n_periods=23,window_size=240,trade_size=250,train_size=750,forward_roll=250,start_date=datetime(1990,1,1),end_date=datetime(2015,12,31),apply_wavelet_transform=True)"
   ]
  },
  {
   "cell_type": "code",
   "execution_count": 8,
   "metadata": {},
   "outputs": [
    {
     "name": "stderr",
     "output_type": "stream",
     "text": [
      "[Parallel(n_jobs=6)]: Using backend LokyBackend with 6 concurrent workers.\n"
     ]
    },
    {
     "name": "stderr",
     "output_type": "stream",
     "text": [
      "[Parallel(n_jobs=6)]: Done   1 tasks      | elapsed:   42.8s\n"
     ]
    }
   ],
   "source": [
    "train_test_splits,task_types=create_tensors(study_periods)"
   ]
  },
  {
   "cell_type": "code",
   "execution_count": 9,
   "metadata": {},
   "outputs": [
    {
     "name": "stdout",
     "output_type": "stream",
     "text": [
      "torch.Size([81159, 240, 1]) torch.Size([81159]) torch.Size([44982, 240, 1]) torch.Size([44982])\n"
     ]
    }
   ],
   "source": [
    "#Optional code to verify tensor shapes\n",
    "for train_data, train_labels, test_data, test_labels in train_test_splits:\n",
    "    print(train_data.shape, train_labels.shape, test_data.shape, test_labels.shape)"
   ]
  },
  {
   "cell_type": "code",
   "execution_count": 97,
   "metadata": {},
   "outputs": [],
   "source": [
    "# task_types=['regression']"
   ]
  },
  {
   "cell_type": "code",
   "execution_count": 98,
   "metadata": {},
   "outputs": [],
   "source": [
    "#Figure out how big model is when saved\n",
    "#Ensure model is actually learning, look into loss curves\n",
    "#Fournier Transform stock data to get more simplistic data to learn from to test\n",
    "#If using sharpe loss you have to lead/ lag data or something to find actual next day return for stock you pick\n",
    "#Model should be learning how to be a portfolio constructer (learn to reject stocks from its portfolio)\n",
    "#Test toydataset on hugging face model\n",
    "#Look more into deep gamblers\n",
    "#Maybe turn it back into a classification problem (above/below cross-sectional median) and switch objective to pick winners instead of overall sharpe\n",
    "#Yes!, and try pre-trained hugging face model on data"
   ]
  },
  {
   "cell_type": "markdown",
   "metadata": {},
   "source": [
    "#ALSO FIX BATCH SIZE ERROR"
   ]
  },
  {
   "cell_type": "code",
   "execution_count": 11,
   "metadata": {},
   "outputs": [
    {
     "name": "stdout",
     "output_type": "stream",
     "text": [
      "Using device: cpu\n"
     ]
    },
    {
     "name": "stderr",
     "output_type": "stream",
     "text": [
      "100%|██████████| 1/1 [20:17<00:00, 1217.05s/it]\n"
     ]
    },
    {
     "name": "stdout",
     "output_type": "stream",
     "text": [
      "Epoch 1/100, Average Train Loss: 0.0422, Average Validation Loss: 0.0052\n"
     ]
    },
    {
     "name": "stderr",
     "output_type": "stream",
     "text": [
      "100%|██████████| 1/1 [22:52<00:00, 1372.91s/it]\n"
     ]
    },
    {
     "name": "stdout",
     "output_type": "stream",
     "text": [
      "Epoch 2/100, Average Train Loss: 0.0139, Average Validation Loss: 0.0045\n"
     ]
    },
    {
     "name": "stderr",
     "output_type": "stream",
     "text": [
      "100%|██████████| 1/1 [30:42<00:00, 1842.05s/it]\n"
     ]
    },
    {
     "name": "stdout",
     "output_type": "stream",
     "text": [
      "Epoch 3/100, Average Train Loss: 0.0118, Average Validation Loss: 0.0065\n"
     ]
    },
    {
     "name": "stderr",
     "output_type": "stream",
     "text": [
      "100%|██████████| 1/1 [2:31:19<00:00, 9079.36s/it]\n"
     ]
    },
    {
     "name": "stdout",
     "output_type": "stream",
     "text": [
      "Epoch 4/100, Average Train Loss: 0.0098, Average Validation Loss: 0.0043\n"
     ]
    },
    {
     "name": "stderr",
     "output_type": "stream",
     "text": [
      "100%|██████████| 1/1 [49:41<00:00, 2981.19s/it]\n"
     ]
    },
    {
     "name": "stdout",
     "output_type": "stream",
     "text": [
      "Epoch 5/100, Average Train Loss: 0.0092, Average Validation Loss: 0.0041\n"
     ]
    },
    {
     "name": "stderr",
     "output_type": "stream",
     "text": [
      "100%|██████████| 1/1 [46:23<00:00, 2783.83s/it]\n"
     ]
    },
    {
     "name": "stdout",
     "output_type": "stream",
     "text": [
      "Epoch 6/100, Average Train Loss: 0.0076, Average Validation Loss: 0.0042\n"
     ]
    },
    {
     "name": "stderr",
     "output_type": "stream",
     "text": [
      "100%|██████████| 1/1 [36:28<00:00, 2188.30s/it]\n"
     ]
    },
    {
     "name": "stdout",
     "output_type": "stream",
     "text": [
      "Epoch 7/100, Average Train Loss: 0.0075, Average Validation Loss: 0.0032\n"
     ]
    },
    {
     "name": "stderr",
     "output_type": "stream",
     "text": [
      "100%|██████████| 1/1 [34:41<00:00, 2081.65s/it]\n"
     ]
    },
    {
     "name": "stdout",
     "output_type": "stream",
     "text": [
      "Epoch 8/100, Average Train Loss: 0.0068, Average Validation Loss: 0.0020\n"
     ]
    },
    {
     "name": "stderr",
     "output_type": "stream",
     "text": [
      "100%|██████████| 1/1 [33:48<00:00, 2028.97s/it]\n"
     ]
    },
    {
     "name": "stdout",
     "output_type": "stream",
     "text": [
      "Epoch 9/100, Average Train Loss: 0.0070, Average Validation Loss: 0.0030\n"
     ]
    },
    {
     "name": "stderr",
     "output_type": "stream",
     "text": [
      "100%|██████████| 1/1 [32:11<00:00, 1931.87s/it]\n"
     ]
    },
    {
     "name": "stdout",
     "output_type": "stream",
     "text": [
      "Epoch 10/100, Average Train Loss: 0.0062, Average Validation Loss: 0.0047\n"
     ]
    },
    {
     "name": "stderr",
     "output_type": "stream",
     "text": [
      "100%|██████████| 1/1 [30:30<00:00, 1830.14s/it]\n"
     ]
    },
    {
     "name": "stdout",
     "output_type": "stream",
     "text": [
      "Epoch 11/100, Average Train Loss: 0.0062, Average Validation Loss: 0.0023\n"
     ]
    },
    {
     "name": "stderr",
     "output_type": "stream",
     "text": [
      "100%|██████████| 1/1 [32:50<00:00, 1970.76s/it]\n"
     ]
    },
    {
     "name": "stdout",
     "output_type": "stream",
     "text": [
      "Epoch 12/100, Average Train Loss: 0.0059, Average Validation Loss: 0.0023\n"
     ]
    },
    {
     "name": "stderr",
     "output_type": "stream",
     "text": [
      "100%|██████████| 1/1 [37:53<00:00, 2273.51s/it]\n"
     ]
    },
    {
     "name": "stdout",
     "output_type": "stream",
     "text": [
      "Epoch 13/100, Average Train Loss: 0.0058, Average Validation Loss: 0.0016\n"
     ]
    },
    {
     "name": "stderr",
     "output_type": "stream",
     "text": [
      "100%|██████████| 1/1 [46:56<00:00, 2816.34s/it]\n"
     ]
    },
    {
     "name": "stdout",
     "output_type": "stream",
     "text": [
      "Epoch 14/100, Average Train Loss: 0.0060, Average Validation Loss: 0.0029\n"
     ]
    },
    {
     "name": "stderr",
     "output_type": "stream",
     "text": [
      "100%|██████████| 1/1 [46:25<00:00, 2785.39s/it]\n"
     ]
    },
    {
     "name": "stdout",
     "output_type": "stream",
     "text": [
      "Epoch 15/100, Average Train Loss: 0.0055, Average Validation Loss: 0.0018\n"
     ]
    },
    {
     "name": "stderr",
     "output_type": "stream",
     "text": [
      "100%|██████████| 1/1 [43:11<00:00, 2591.78s/it]\n"
     ]
    },
    {
     "name": "stdout",
     "output_type": "stream",
     "text": [
      "Epoch 16/100, Average Train Loss: 0.0055, Average Validation Loss: 0.0024\n"
     ]
    },
    {
     "name": "stderr",
     "output_type": "stream",
     "text": [
      "100%|██████████| 1/1 [3:43:59<00:00, 13439.50s/it]\n"
     ]
    },
    {
     "name": "stdout",
     "output_type": "stream",
     "text": [
      "Epoch 17/100, Average Train Loss: 0.0050, Average Validation Loss: 0.0047\n"
     ]
    },
    {
     "name": "stderr",
     "output_type": "stream",
     "text": [
      "100%|██████████| 1/1 [44:00<00:00, 2640.52s/it]"
     ]
    },
    {
     "name": "stdout",
     "output_type": "stream",
     "text": [
      "Epoch 18/100, Average Train Loss: 0.0050, Average Validation Loss: 0.0035\n",
      "Early stopping!\n"
     ]
    },
    {
     "name": "stderr",
     "output_type": "stream",
     "text": [
      "\n"
     ]
    },
    {
     "data": {
      "text/plain": [
       "<All keys matched successfully>"
      ]
     },
     "execution_count": 11,
     "metadata": {},
     "output_type": "execute_result"
    }
   ],
   "source": [
    "# Check if CUDA, MPS, or CPU should be used\n",
    "if torch.cuda.is_available():\n",
    "    device = torch.device(\"cuda\")\n",
    "# elif torch.backends.mps.is_available():\n",
    "#     device = torch.device(\"mps\")\n",
    "else:\n",
    "    device = torch.device(\"cpu\")\n",
    "\n",
    "print(\"Using device:\", device)\n",
    "best_model_path = \"best_model.pth\" \n",
    "model = TimeSeriesTransformer(d_model=16, num_heads=4, d_ff=32, num_encoder_layers=2, \n",
    "                               dropout=.1,task_type=task_types[0]).to(device)\n",
    "# model = TimeSeriesTransformerModel(config)\n",
    "\n",
    "# Loss depends on target, MAE for returns, Cross Entropy for above/below cross-sectional median. Also have selective loss in utils\n",
    "if task_types[0] == 'classification':\n",
    "    criterion = nn.NLLLoss()\n",
    "else:\n",
    "    criterion = nn.MSELoss()\n",
    "optimizer = optim.Adam(model.parameters(), lr=0.001)\n",
    "\n",
    "n_epochs = 100\n",
    "patience = 5\n",
    "best_loss = np.inf\n",
    "counter = 0\n",
    "batch_size=64\n",
    "for epoch in range(n_epochs):\n",
    "    model.train()\n",
    "    total_train_loss = 0.0\n",
    "    total_val_loss = 0.0\n",
    "\n",
    "    for train_data, train_labels, val_data, val_labels in tqdm(train_test_splits):\n",
    "        train_dataset = TensorDataset(train_data, train_labels)\n",
    "        train_loader = DataLoader(train_dataset, batch_size=batch_size, shuffle=False)\n",
    "\n",
    "        val_dataset = TensorDataset(val_data, val_labels)\n",
    "        val_loader = DataLoader(val_dataset, batch_size=batch_size, shuffle=False)\n",
    "        #reshape to batch,sequence,d_model\n",
    "        \n",
    "        # Access the batch size from the train_loader\n",
    "        batch_size = train_loader.batch_size\n",
    "        sequence_length = train_loader.dataset.tensors[0].size(1)\n",
    "\n",
    "        train_loss = 0.0\n",
    "        for data, labels in train_loader:\n",
    "            data, labels = data.to(device), labels.to(device)\n",
    "            train_mask = ScaledMultiHeadAttention.create_look_ahead_mask(batch_size=data.size(0), sequence_length=data.size(1))\n",
    "            \n",
    "            optimizer.zero_grad()\n",
    "            outputs = model(data,src_mask=train_mask).squeeze()\n",
    "            if task_types[0] == 'classification':\n",
    "                labels = labels.long()  # Adjusted here to use the look-ahead mask\n",
    "            loss = criterion(outputs, labels)  # Adjust based on your specific use case\n",
    "            loss.backward()\n",
    "            optimizer.step()\n",
    "\n",
    "            train_loss += loss.item() * data.size(0)\n",
    "\n",
    "        total_train_loss += train_loss / len(train_loader.dataset)\n",
    "\n",
    "        model.eval()\n",
    "        val_loss = 0.0\n",
    "        with torch.no_grad():\n",
    "            for data, labels in val_loader:\n",
    "                data, labels = data.to(device), labels.to(device)\n",
    "                val_mask = ScaledMultiHeadAttention.create_look_ahead_mask(batch_size=data.size(0), sequence_length=data.size(1))\n",
    "\n",
    "                outputs = model(data,src_mask=val_mask).squeeze()\n",
    "                if task_types[0] == 'classification':\n",
    "                    labels = labels.long() # Adjusted here to use the look-ahead mask\n",
    "                loss = criterion(outputs, labels)  # Adjust based on your specific use case\n",
    "                val_loss += loss.item() * data.size(0)\n",
    "\n",
    "        total_val_loss += val_loss / len(val_loader.dataset)\n",
    "\n",
    "    average_train_loss = total_train_loss / len(train_test_splits)\n",
    "    average_val_loss = total_val_loss / len(train_test_splits)\n",
    "    \n",
    "    print(f'Epoch {epoch+1}/{n_epochs}, '\n",
    "          f'Average Train Loss: {average_train_loss:.4f}, '\n",
    "          f'Average Validation Loss: {average_val_loss:.4f}')\n",
    "\n",
    "    if average_val_loss < best_loss:\n",
    "        best_loss = average_val_loss\n",
    "        torch.save(model.state_dict(), best_model_path)\n",
    "        counter = 0\n",
    "    else:\n",
    "        counter += 1\n",
    "\n",
    "    if counter == patience:\n",
    "        print('Early stopping!')\n",
    "        break\n",
    "\n",
    "best_model_state = torch.load(best_model_path, map_location=device)\n",
    "model.load_state_dict(best_model_state)"
   ]
  },
  {
   "cell_type": "code",
   "execution_count": 43,
   "metadata": {},
   "outputs": [],
   "source": [
    "# test_data,test_labels=train_test_splits[0][2],train_test_splits[0][3]"
   ]
  },
  {
   "cell_type": "code",
   "execution_count": 44,
   "metadata": {},
   "outputs": [
    {
     "data": {
      "text/plain": [
       "torch.Size([44982, 240, 1])"
      ]
     },
     "execution_count": 44,
     "metadata": {},
     "output_type": "execute_result"
    }
   ],
   "source": [
    "# test_data.shape"
   ]
  },
  {
   "cell_type": "code",
   "execution_count": 14,
   "metadata": {},
   "outputs": [
    {
     "name": "stderr",
     "output_type": "stream",
     "text": [
      "/var/folders/bm/bm_nkxfx3w1303dr6gyz9cg00000gn/T/ipykernel_75967/2282182767.py:1: UserWarning: To copy construct from a tensor, it is recommended to use sourceTensor.clone().detach() or sourceTensor.clone().detach().requires_grad_(True), rather than torch.tensor(sourceTensor).\n",
      "  test_data_tensor = torch.tensor(test_data, dtype=torch.float32)\n",
      "/var/folders/bm/bm_nkxfx3w1303dr6gyz9cg00000gn/T/ipykernel_75967/2282182767.py:2: UserWarning: To copy construct from a tensor, it is recommended to use sourceTensor.clone().detach() or sourceTensor.clone().detach().requires_grad_(True), rather than torch.tensor(sourceTensor).\n",
      "  test_labels_tensor = torch.tensor(test_labels, dtype=torch.float32)\n"
     ]
    }
   ],
   "source": [
    "test_data_tensor = torch.tensor(test_data, dtype=torch.float32)\n",
    "test_labels_tensor = torch.tensor(test_labels, dtype=torch.float32)"
   ]
  },
  {
   "cell_type": "code",
   "execution_count": 15,
   "metadata": {},
   "outputs": [
    {
     "name": "stdout",
     "output_type": "stream",
     "text": [
      "Accuracy: 0.5716508825752523\n",
      "              precision    recall  f1-score   support\n",
      "\n",
      "         0.0       0.61      0.49      0.54     23535\n",
      "         1.0       0.54      0.67      0.60     21447\n",
      "\n",
      "    accuracy                           0.57     44982\n",
      "   macro avg       0.58      0.58      0.57     44982\n",
      "weighted avg       0.58      0.57      0.57     44982\n",
      "\n",
      "Accuracy: 0.5716508825752523\n",
      "              precision    recall  f1-score   support\n",
      "\n",
      "         0.0       0.61      0.49      0.54     23535\n",
      "         1.0       0.54      0.67      0.60     21447\n",
      "\n",
      "    accuracy                           0.57     44982\n",
      "   macro avg       0.58      0.58      0.57     44982\n",
      "weighted avg       0.58      0.57      0.57     44982\n",
      "\n"
     ]
    },
    {
     "data": {
      "image/png": "[encoded data removed]",
      "text/plain": [
       "<Figure size 1500x500 with 1 Axes>"
      ]
     },
     "metadata": {},
     "output_type": "display_data"
    }
   ],
   "source": [
    "import torch\n",
    "import matplotlib.pyplot as plt\n",
    "from sklearn.metrics import mean_squared_error, accuracy_score, classification_report\n",
    "import numpy as np\n",
    "\n",
    "# # Assuming your model is for regression. Change this part if it's for classification.\n",
    "# def evaluate_model(model, test_loader):\n",
    "#     model.eval()\n",
    "#     predictions = []\n",
    "#     actuals = []\n",
    "#     with torch.no_grad():\n",
    "#         for data, labels in test_loader:\n",
    "#             data, labels = data.to(device), labels.to(device)\n",
    "#             outputs = model(data)\n",
    "#             predictions.extend(outputs.cpu().numpy())\n",
    "#             actuals.extend(labels.cpu().numpy())\n",
    "\n",
    "#     return np.array(predictions), np.array(actuals)\n",
    "# import numpy as np\n",
    "from sklearn.metrics import accuracy_score, classification_report\n",
    "\n",
    "def evaluate_model_class(model, test_loader):\n",
    "    model.eval()\n",
    "    predictions = []\n",
    "    actuals = []\n",
    "    with torch.no_grad():\n",
    "        for data, labels in test_loader:\n",
    "            data, labels = data.to(device), labels.to(device)\n",
    "            outputs = model(data)\n",
    "\n",
    "            # Convert log probabilities to probabilities\n",
    "            probs = torch.exp(outputs)\n",
    "\n",
    "            # For binary classification, consider the probability of the positive class\n",
    "            # preds = (probs[:, 1] > 0.5).type(torch.int) # if binary classification\n",
    "            # For multi-class classification, use argmax to get the predicted class\n",
    "            preds = torch.argmax(probs, dim=1) # if multi-class classification\n",
    "\n",
    "            predictions.extend(preds.cpu().numpy())\n",
    "            actuals.extend(labels.cpu().numpy())\n",
    "\n",
    "    # Convert to NumPy arrays for further analysis\n",
    "    predictions = np.array(predictions)\n",
    "    actuals = np.array(actuals)\n",
    "\n",
    "    # Calculate accuracy or other metrics as needed\n",
    "    accuracy = accuracy_score(actuals, predictions)\n",
    "    print(f'Accuracy: {accuracy}')\n",
    "    print(classification_report(actuals, predictions))\n",
    "\n",
    "    return predictions, actuals\n",
    "\n",
    "\n",
    "\n",
    "# Create DataLoader for test data\n",
    "test_dataset = TensorDataset(test_data_tensor, test_labels_tensor)\n",
    "test_loader = DataLoader(test_dataset, batch_size=64, shuffle=False)\n",
    "\n",
    "# Evaluate the model\n",
    "predictions, actuals = evaluate_model_class(model, test_loader)\n",
    "\n",
    "# Calculate performance metrics\n",
    "if model.task_type == 'regression':\n",
    "    mse = mean_squared_error(actuals, predictions)\n",
    "    print(f'Mean Squared Error: {mse}')\n",
    "    # Can also calculate RMSE, MAE, etc.\n",
    "elif model.task_type == 'classification':\n",
    "    if len(predictions.shape) == 2 and predictions.shape[1] == 2:\n",
    "        predictions = predictions[:, 1]  # Keep only the probabilities for class 1\n",
    "\n",
    "    # Round the probabilities to get binary predictions\n",
    "    binary_predictions = predictions.round()\n",
    "\n",
    "    # Ensure actuals is a 1D array\n",
    "    actuals = actuals.flatten()\n",
    "    accuracy = accuracy_score(actuals, binary_predictions)\n",
    "    print(f'Accuracy: {accuracy}')\n",
    "    print(classification_report(actuals, binary_predictions))\n",
    "\n",
    "# Plotting predictions vs actuals for a subset of the test data\n",
    "plt.figure(figsize=(15, 5))\n",
    "plt.plot(actuals[:250], label='Actual')\n",
    "plt.plot(predictions[:250], label='Predicted')\n",
    "plt.title('Model Predictions vs Actual')\n",
    "plt.xlabel('Time')\n",
    "plt.ylabel('Value')\n",
    "plt.legend()\n",
    "plt.show()\n"
   ]
  },
  {
   "cell_type": "code",
   "execution_count": 50,
   "metadata": {},
   "outputs": [
    {
     "data": {
      "text/plain": [
       "array([[ 0.16815382],\n",
       "       [ 0.17151144],\n",
       "       [ 0.16502017],\n",
       "       ...,\n",
       "       [-0.01446453],\n",
       "       [ 0.01244107],\n",
       "       [ 0.0100327 ]], dtype=float32)"
      ]
     },
     "execution_count": 50,
     "metadata": {},
     "output_type": "execute_result"
    }
   ],
   "source": [
    "predictions"
   ]
  },
  {
   "cell_type": "code",
   "execution_count": 51,
   "metadata": {},
   "outputs": [
    {
     "data": {
      "text/plain": [
       "array([ 0.002532,  0.004247,  0.007937, ..., -0.013261, -0.013586,\n",
       "       -0.003615], dtype=float32)"
      ]
     },
     "execution_count": 51,
     "metadata": {},
     "output_type": "execute_result"
    }
   ],
   "source": [
    "actuals"
   ]
  },
  {
   "cell_type": "code",
   "execution_count": 13,
   "metadata": {},
   "outputs": [
    {
     "name": "stderr",
     "output_type": "stream",
     "text": [
      "  0%|          | 0/1 [00:00<?, ?it/s]"
     ]
    },
    {
     "ename": "",
     "evalue": "",
     "output_type": "error",
     "traceback": [
      "\u001b[1;31mThe Kernel crashed while executing code in the the current cell or a previous cell. Please review the code in the cell(s) to identify a possible cause of the failure. Click <a href='https://aka.ms/vscodeJupyterKernelCrash'>here</a> for more info. View Jupyter <a href='command:jupyter.viewOutput'>log</a> for further details."
     ]
    }
   ],
   "source": [
    "device = torch.device(\"cuda\" if torch.cuda.is_available() else \"cpu\")\n",
    "# model = TimeSeriesTransformer(d_model=64, num_heads=8, d_ff=256, num_encoder_layers=2, \n",
    "#                                dropout=.1, max_len=240,task_type='classification')\n",
    "model.load_state_dict(torch.load('best_model.pth',map_location=torch.device('cpu')) )\n",
    "model.eval()\n",
    "\n",
    "in_sample_long_portfolios = pd.DataFrame()\n",
    "out_of_sample_long_portfolios = pd.DataFrame()\n",
    "\n",
    "in_sample_short_portfolios = pd.DataFrame()\n",
    "out_of_sample_short_portfolios = pd.DataFrame()\n",
    "\n",
    "k = 10  # Number of top assets to select in portfolios\n",
    "\n",
    "for train_data, train_labels, val_data, val_labels in tqdm(train_test_splits):\n",
    "    # Here, train_data, val_data are your training and validation data respectively\n",
    "    \n",
    "\n",
    "    train_mask = ScaledMultiHeadAttention.create_look_ahead_mask(batch_size=train_data.size(0), sequence_length=train_data.size(1))\n",
    "    val_mask = ScaledMultiHeadAttention.create_look_ahead_mask(batch_size=val_data.size(0), sequence_length=val_data.size(1))\n",
    "\n",
    "    with torch.no_grad():\n",
    "        train_predictions = model(train_data.to(device), src_mask=train_mask.to(device))\n",
    "        val_predictions = model(val_data.to(device), src_mask=val_mask.to(device))\n",
    "\n",
    "        train_probs = torch.softmax(train_predictions, dim=1)[:, 1].cpu().numpy()\n",
    "        val_probs = torch.softmax(val_predictions, dim=1)[:, 1].cpu().numpy()\n",
    "\n",
    "    # Assuming you have a dataframe or similar structure to hold the date and TICKER information\n",
    "    train_df['predicted_prob'] = train_probs\n",
    "    val_df['predicted_prob'] = val_probs\n",
    "\n",
    "    # In-Sample Portfolio Construction\n",
    "    for date in train_df['date'].unique():\n",
    "        date_data = train_df[train_df['date'] == date].sort_values(by='predicted_prob', ascending=False)\n",
    "        \n",
    "        long_tickers = date_data.head(k)\n",
    "        short_tickers = date_data.tail(k)\n",
    "        \n",
    "        in_sample_long_portfolios = pd.concat([in_sample_long_portfolios, long_tickers])\n",
    "        in_sample_short_portfolios = pd.concat([in_sample_short_portfolios, short_tickers])\n",
    "\n",
    "    # Out-of-Sample Portfolio Construction\n",
    "    for date in val_df['date'].unique():\n",
    "        date_data = val_df[val_df['date'] == date].sort_values(by='predicted_prob', ascending=False)\n",
    "        \n",
    "        long_tickers = date_data.head(k)\n",
    "        short_tickers = date_data.tail(k)\n",
    "        \n",
    "        out_of_sample_long_portfolios = pd.concat([out_of_sample_long_portfolios, long_tickers])\n",
    "        out_of_sample_short_portfolios = pd.concat([out_of_sample_short_portfolios, short_tickers])\n",
    "\n",
    "# At this point, in_sample_long_portfolios, out_of_sample_long_portfolios, etc. hold your portfolios\n",
    "\n"
   ]
  },
  {
   "cell_type": "code",
   "execution_count": null,
   "metadata": {},
   "outputs": [],
   "source": [
    "in_sample_long_portfolios.to_csv('../data/transformer_results/in_sample_long_portfolios.csv')\n",
    "in_sample_short_portfolios.to_csv('../data/transformer_results/in_sample_short_portfolios.csv')\n",
    "out_of_sample_long_portfolios.to_csv('../data/transformer_results/out_of_sample_long_portfolios.csv')\n",
    "out_of_sample_short_portfolios.to_csv('../data/transformer_results/out_of_sample_short_portfolios.csv')"
   ]
  }
 ],
 "metadata": {
  "kernelspec": {
   "display_name": "Python 3",
   "language": "python",
   "name": "python3"
  },
  "language_info": {
   "codemirror_mode": {
    "name": "ipython",
    "version": 3
   },
   "file_extension": ".py",
   "mimetype": "text/x-python",
   "name": "python",
   "nbconvert_exporter": "python",
   "pygments_lexer": "ipython3",
   "version": "3.9.16"
  }
 },
 "nbformat": 4,
 "nbformat_minor": 2
}
